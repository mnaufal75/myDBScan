{
 "cells": [
  {
   "cell_type": "markdown",
   "metadata": {},
   "source": [
    "## Class DBScan"
   ]
  },
  {
   "cell_type": "code",
   "execution_count": 1,
   "metadata": {},
   "outputs": [],
   "source": [
    "import numpy as np\n",
    "import pandas as pd\n",
    "import matplotlib.pyplot as plt"
   ]
  },
  {
   "cell_type": "code",
   "execution_count": 2,
   "metadata": {},
   "outputs": [],
   "source": [
    "def euclidean_distance(Q, P):\n",
    "    # a = 0\n",
    "    # for i, j in zip(Q, P):\n",
    "        # a += pow(i - j, 2)\n",
    "        # print(pow(i - j, 2))\n",
    "    # return pow(a, 0.5)\n",
    "    # print(b ** 2)\n",
    "    # print(pow(np.sum(b ** 2), 0.5))\n",
    "    # print(pow(a, 0.5))\n",
    "    a = np.diff([Q, P], axis=0)\n",
    "    # return pow(np.sum(a ** 2), 0.5)\n",
    "    return np.sqrt(np.sum(a ** 2))"
   ]
  },
  {
   "cell_type": "code",
   "execution_count": 153,
   "metadata": {},
   "outputs": [],
   "source": [
    "# euclidean_distance(iris.data[0], iris.data[3])"
   ]
  },
  {
   "cell_type": "code",
   "execution_count": 4,
   "metadata": {},
   "outputs": [],
   "source": [
    "def RangeQuery(DB, Q, eps):\n",
    "    neighbors = []\n",
    "    for idx, P in enumerate(DB):\n",
    "        if euclidean_distance(Q, P) <= eps:\n",
    "            # print(Q[0], P[0])\n",
    "            neighbors.append(idx)\n",
    "    return neighbors"
   ]
  },
  {
   "cell_type": "code",
   "execution_count": 5,
   "metadata": {},
   "outputs": [],
   "source": [
    "class myDBScan:\n",
    "    def __init__(self, eps, min_samples):\n",
    "        self.eps = eps\n",
    "        self.min_samples = min_samples\n",
    "        \n",
    "    def fit_predict(self, DB):\n",
    "        C = -1\n",
    "        \n",
    "        label = []\n",
    "        for P in DB:\n",
    "            label.append(None)\n",
    "        \n",
    "        for idx, P in enumerate(DB):\n",
    "            if label[idx] != None:\n",
    "                continue\n",
    "            \n",
    "            N = RangeQuery(DB, P, self.eps)\n",
    "            \n",
    "            if len(N) < self.min_samples:\n",
    "                label[idx] = 'noise'\n",
    "                continue\n",
    "                \n",
    "            C += 1\n",
    "            label[idx] = C\n",
    "            \n",
    "            S = N\n",
    "            S.remove(idx)\n",
    "            \n",
    "            for Q in S:\n",
    "                if label[Q] == 'noise':\n",
    "                    label[Q] = C\n",
    "                if label[Q] != None:\n",
    "                    continue\n",
    "                label[Q] = C\n",
    "                \n",
    "                N = RangeQuery(DB, DB[Q], self.eps)\n",
    "                \n",
    "                if len(N) >= self.min_samples:\n",
    "                    S.extend(N)\n",
    "        \n",
    "        label = np.asarray(label)\n",
    "        label[label == 'noise'] = -1\n",
    "        return label.astype(int)"
   ]
  },
  {
   "cell_type": "markdown",
   "metadata": {},
   "source": [
    "## Load Iris"
   ]
  },
  {
   "cell_type": "code",
   "execution_count": 6,
   "metadata": {},
   "outputs": [],
   "source": [
    "from sklearn.datasets import load_iris\n",
    "from sklearn.cluster import DBSCAN\n",
    "\n",
    "iris = load_iris()"
   ]
  },
  {
   "cell_type": "markdown",
   "metadata": {},
   "source": [
    "## Implementasi class DBScan"
   ]
  },
  {
   "cell_type": "code",
   "execution_count": 14,
   "metadata": {},
   "outputs": [
    {
     "data": {
      "text/plain": [
       "array([ 0,  0,  0,  0,  0, -1,  0,  0,  0,  0,  0,  0,  0,  0, -1, -1, -1,\n",
       "        0, -1,  0,  1,  0, -1,  0,  0,  0,  0,  0,  0,  0,  0,  1, -1, -1,\n",
       "        0,  0,  0,  0,  0,  0,  0, -1,  0,  0, -1,  0,  0,  0,  0,  0,  2,\n",
       "        3,  2,  4,  5, -1,  3,  6,  5, -1, -1, -1, -1,  7, -1,  5,  8,  4,\n",
       "        9,  4, 10, -1, -1,  7,  5,  5, -1, -1,  7, -1,  4,  4,  4, -1,  8,\n",
       "       -1,  2,  9,  4,  4,  4,  7,  4,  6,  4,  4,  4,  5, -1,  4, -1, 11,\n",
       "       -1, 12, -1, 13, -1, 14, -1, -1, 15, -1, 16, 11, -1, -1, 12, -1, -1,\n",
       "       -1, 17, -1, 13, 10, 17, -1, 10, 10, 18, -1, 14, -1, 18, -1, -1, -1,\n",
       "       19, 12, 10, 16, 17, 20, 11, 17, 17, 20, 10, 15, 19, 10])"
      ]
     },
     "execution_count": 14,
     "metadata": {},
     "output_type": "execute_result"
    }
   ],
   "source": [
    "db = myDBScan(eps=0.3, min_samples=2)\n",
    "db.fit_predict(iris.data[:, :])"
   ]
  },
  {
   "cell_type": "markdown",
   "metadata": {},
   "source": [
    "## Implementasi class DBSCAN dari scikit"
   ]
  },
  {
   "cell_type": "code",
   "execution_count": 8,
   "metadata": {},
   "outputs": [
    {
     "data": {
      "text/plain": [
       "array([  0,   1,   1,   1,   0,   2,   3,   0,   4,   1,   5,   6,   1,\n",
       "         7,   8,   9,  10,   0,  11,  12,  13,  12,  14,  15,  16,   1,\n",
       "        15,   0,   0,   1,   1,  17,  18,  19,   1,  20,  21,   1,   4,\n",
       "         0,   0,  22,  23,  24,  25,   1,  12,   1,   5,   0,  26,  27,\n",
       "        28,  29,  30,  31,  32,  33,  34,  35,  36,  37,  38,  39,  40,\n",
       "        41,  42,  43,  44,  45,  46,  47,  48,  49,  50,  41,  51,  52,\n",
       "        39,  53,  45,  45,  54,  55,  42,  56,  57,  58,  59,  60,  61,\n",
       "        39,  54,  33,  59,  59,  59,  62,  63,  59,  64,  65,  66,  67,\n",
       "        68,  69,  70,  71,  72,  73,  74,  75,  76,  77,  78,  79,  80,\n",
       "        81,  82,  83,  84,  85,  86,  87,  88,  89,  87,  90,  91,  92,\n",
       "        93,  94,  91,  95,  96,  97,  98,  80,  90,  76,  99, 100,  65,\n",
       "       101, 102, 103, 104, 105, 106, 107], dtype=int64)"
      ]
     },
     "execution_count": 8,
     "metadata": {},
     "output_type": "execute_result"
    }
   ],
   "source": [
    "dbscan = DBSCAN(eps=0.2, min_samples=0.5)\n",
    "dbscan.fit_predict(iris.data[:, :])"
   ]
  }
 ],
 "metadata": {
  "kernelspec": {
   "display_name": "Python 3",
   "language": "python",
   "name": "python3"
  },
  "language_info": {
   "codemirror_mode": {
    "name": "ipython",
    "version": 3
   },
   "file_extension": ".py",
   "mimetype": "text/x-python",
   "name": "python",
   "nbconvert_exporter": "python",
   "pygments_lexer": "ipython3",
   "version": "3.6.5"
  }
 },
 "nbformat": 4,
 "nbformat_minor": 2
}
